{
    "nbformat_minor": 2, 
    "cells": [
        {
            "source": "# Segmenting and Clustering Neighborhoods in Toronto", 
            "cell_type": "markdown", 
            "metadata": {}
        }, 
        {
            "execution_count": 9, 
            "cell_type": "code", 
            "metadata": {}, 
            "outputs": [], 
            "source": "import pandas as pd\nimport numpy as np\nfrom bs4 import BeautifulSoup\nimport urllib.request"
        }, 
        {
            "source": "#### Get Page", 
            "cell_type": "markdown", 
            "metadata": {}
        }, 
        {
            "execution_count": 16, 
            "cell_type": "code", 
            "metadata": {}, 
            "outputs": [], 
            "source": "url = 'https://en.wikipedia.org/wiki/List_of_postal_codes_of_Canada:_M'\npage_file = urllib.request.Request(url)\nrequest = urllib.request.Request(url)\nresponse = urllib.request.urlopen(request)\npage = response.read().decode('utf-8')\n\nsoup = BeautifulSoup(page, 'lxml')"
        }, 
        {
            "source": "#### find the table and all rows", 
            "cell_type": "markdown", 
            "metadata": {}
        }, 
        {
            "execution_count": 17, 
            "cell_type": "code", 
            "metadata": {}, 
            "outputs": [], 
            "source": "table = soup.find_all('table')[0] # Grab the first table\ntable_rows = table.find_all('tr')"
        }, 
        {
            "source": "#### prepare columns and list -> save all table cells into the list", 
            "cell_type": "markdown", 
            "metadata": {}
        }, 
        {
            "execution_count": 18, 
            "cell_type": "code", 
            "metadata": {}, 
            "outputs": [], 
            "source": "cols = ['Postcode','Borough','Neighbourhood']\nlst = []\n\nfor tr in table_rows:\n    td = tr.find_all('td')\n    row = [i.text for i in td]\n    lst.append(row)"
        }, 
        {
            "source": "#### create the dataframe and prepare it", 
            "cell_type": "markdown", 
            "metadata": {}
        }, 
        {
            "execution_count": 19, 
            "cell_type": "code", 
            "metadata": {}, 
            "outputs": [
                {
                    "execution_count": 19, 
                    "metadata": {}, 
                    "data": {
                        "text/html": "<div>\n<style scoped>\n    .dataframe tbody tr th:only-of-type {\n        vertical-align: middle;\n    }\n\n    .dataframe tbody tr th {\n        vertical-align: top;\n    }\n\n    .dataframe thead th {\n        text-align: right;\n    }\n</style>\n<table border=\"1\" class=\"dataframe\">\n  <thead>\n    <tr style=\"text-align: right;\">\n      <th></th>\n      <th>Postcode</th>\n      <th>Borough</th>\n      <th>Neighbourhood</th>\n    </tr>\n  </thead>\n  <tbody>\n    <tr>\n      <th>0</th>\n      <td>M3A</td>\n      <td>North York</td>\n      <td>Parkwoods\\n</td>\n    </tr>\n    <tr>\n      <th>1</th>\n      <td>M4A</td>\n      <td>North York</td>\n      <td>Victoria Village\\n</td>\n    </tr>\n    <tr>\n      <th>2</th>\n      <td>M5A</td>\n      <td>Downtown Toronto</td>\n      <td>Harbourfront\\n</td>\n    </tr>\n    <tr>\n      <th>3</th>\n      <td>M5A</td>\n      <td>Downtown Toronto</td>\n      <td>Regent Park\\n</td>\n    </tr>\n    <tr>\n      <th>4</th>\n      <td>M6A</td>\n      <td>North York</td>\n      <td>Lawrence Heights\\n</td>\n    </tr>\n    <tr>\n      <th>5</th>\n      <td>M6A</td>\n      <td>North York</td>\n      <td>Lawrence Manor\\n</td>\n    </tr>\n    <tr>\n      <th>6</th>\n      <td>M7A</td>\n      <td>Queen's Park</td>\n      <td>Queen's Park</td>\n    </tr>\n    <tr>\n      <th>7</th>\n      <td>M9A</td>\n      <td>Etobicoke</td>\n      <td>Islington Avenue\\n</td>\n    </tr>\n    <tr>\n      <th>8</th>\n      <td>M1B</td>\n      <td>Scarborough</td>\n      <td>Rouge\\n</td>\n    </tr>\n    <tr>\n      <th>9</th>\n      <td>M1B</td>\n      <td>Scarborough</td>\n      <td>Malvern\\n</td>\n    </tr>\n    <tr>\n      <th>10</th>\n      <td>M3B</td>\n      <td>North York</td>\n      <td>Don Mills North\\n</td>\n    </tr>\n    <tr>\n      <th>11</th>\n      <td>M4B</td>\n      <td>East York</td>\n      <td>Woodbine Gardens\\n</td>\n    </tr>\n    <tr>\n      <th>12</th>\n      <td>M4B</td>\n      <td>East York</td>\n      <td>Parkview Hill\\n</td>\n    </tr>\n    <tr>\n      <th>13</th>\n      <td>M5B</td>\n      <td>Downtown Toronto</td>\n      <td>Ryerson\\n</td>\n    </tr>\n    <tr>\n      <th>14</th>\n      <td>M5B</td>\n      <td>Downtown Toronto</td>\n      <td>Garden District\\n</td>\n    </tr>\n    <tr>\n      <th>15</th>\n      <td>M6B</td>\n      <td>North York</td>\n      <td>Glencairn\\n</td>\n    </tr>\n    <tr>\n      <th>16</th>\n      <td>M9B</td>\n      <td>Etobicoke</td>\n      <td>Cloverdale\\n</td>\n    </tr>\n    <tr>\n      <th>17</th>\n      <td>M9B</td>\n      <td>Etobicoke</td>\n      <td>Islington\\n</td>\n    </tr>\n    <tr>\n      <th>18</th>\n      <td>M9B</td>\n      <td>Etobicoke</td>\n      <td>Martin Grove\\n</td>\n    </tr>\n    <tr>\n      <th>19</th>\n      <td>M9B</td>\n      <td>Etobicoke</td>\n      <td>Princess Gardens\\n</td>\n    </tr>\n    <tr>\n      <th>20</th>\n      <td>M9B</td>\n      <td>Etobicoke</td>\n      <td>West Deane Park\\n</td>\n    </tr>\n    <tr>\n      <th>21</th>\n      <td>M1C</td>\n      <td>Scarborough</td>\n      <td>Highland Creek\\n</td>\n    </tr>\n    <tr>\n      <th>22</th>\n      <td>M1C</td>\n      <td>Scarborough</td>\n      <td>Rouge Hill\\n</td>\n    </tr>\n    <tr>\n      <th>23</th>\n      <td>M1C</td>\n      <td>Scarborough</td>\n      <td>Port Union\\n</td>\n    </tr>\n    <tr>\n      <th>24</th>\n      <td>M3C</td>\n      <td>North York</td>\n      <td>Flemingdon Park\\n</td>\n    </tr>\n    <tr>\n      <th>25</th>\n      <td>M3C</td>\n      <td>North York</td>\n      <td>Don Mills South\\n</td>\n    </tr>\n    <tr>\n      <th>26</th>\n      <td>M4C</td>\n      <td>East York</td>\n      <td>Woodbine Heights\\n</td>\n    </tr>\n    <tr>\n      <th>27</th>\n      <td>M5C</td>\n      <td>Downtown Toronto</td>\n      <td>St. James Town\\n</td>\n    </tr>\n    <tr>\n      <th>28</th>\n      <td>M6C</td>\n      <td>York</td>\n      <td>Humewood-Cedarvale\\n</td>\n    </tr>\n    <tr>\n      <th>29</th>\n      <td>M9C</td>\n      <td>Etobicoke</td>\n      <td>Bloordale Gardens\\n</td>\n    </tr>\n    <tr>\n      <th>...</th>\n      <td>...</td>\n      <td>...</td>\n      <td>...</td>\n    </tr>\n    <tr>\n      <th>182</th>\n      <td>M1W</td>\n      <td>Scarborough</td>\n      <td>L'Amoreaux West\\n</td>\n    </tr>\n    <tr>\n      <th>183</th>\n      <td>M1W</td>\n      <td>Scarborough</td>\n      <td>Steeles West\\n</td>\n    </tr>\n    <tr>\n      <th>184</th>\n      <td>M4W</td>\n      <td>Downtown Toronto</td>\n      <td>Rosedale\\n</td>\n    </tr>\n    <tr>\n      <th>185</th>\n      <td>M5W</td>\n      <td>Downtown Toronto</td>\n      <td>Stn A PO Boxes 25 The Esplanade\\n</td>\n    </tr>\n    <tr>\n      <th>186</th>\n      <td>M8W</td>\n      <td>Etobicoke</td>\n      <td>Alderwood\\n</td>\n    </tr>\n    <tr>\n      <th>187</th>\n      <td>M8W</td>\n      <td>Etobicoke</td>\n      <td>Long Branch\\n</td>\n    </tr>\n    <tr>\n      <th>188</th>\n      <td>M9W</td>\n      <td>Etobicoke</td>\n      <td>Northwest\\n</td>\n    </tr>\n    <tr>\n      <th>189</th>\n      <td>M1X</td>\n      <td>Scarborough</td>\n      <td>Upper Rouge\\n</td>\n    </tr>\n    <tr>\n      <th>190</th>\n      <td>M4X</td>\n      <td>Downtown Toronto</td>\n      <td>Cabbagetown\\n</td>\n    </tr>\n    <tr>\n      <th>191</th>\n      <td>M4X</td>\n      <td>Downtown Toronto</td>\n      <td>St. James Town\\n</td>\n    </tr>\n    <tr>\n      <th>192</th>\n      <td>M5X</td>\n      <td>Downtown Toronto</td>\n      <td>First Canadian Place\\n</td>\n    </tr>\n    <tr>\n      <th>193</th>\n      <td>M5X</td>\n      <td>Downtown Toronto</td>\n      <td>Underground city\\n</td>\n    </tr>\n    <tr>\n      <th>194</th>\n      <td>M8X</td>\n      <td>Etobicoke</td>\n      <td>The Kingsway\\n</td>\n    </tr>\n    <tr>\n      <th>195</th>\n      <td>M8X</td>\n      <td>Etobicoke</td>\n      <td>Montgomery Road\\n</td>\n    </tr>\n    <tr>\n      <th>196</th>\n      <td>M8X</td>\n      <td>Etobicoke</td>\n      <td>Old Mill North\\n</td>\n    </tr>\n    <tr>\n      <th>197</th>\n      <td>M4Y</td>\n      <td>Downtown Toronto</td>\n      <td>Church and Wellesley\\n</td>\n    </tr>\n    <tr>\n      <th>198</th>\n      <td>M7Y</td>\n      <td>East Toronto</td>\n      <td>Business reply mail Processing Centre969 Easte...</td>\n    </tr>\n    <tr>\n      <th>199</th>\n      <td>M8Y</td>\n      <td>Etobicoke</td>\n      <td>Humber Bay\\n</td>\n    </tr>\n    <tr>\n      <th>200</th>\n      <td>M8Y</td>\n      <td>Etobicoke</td>\n      <td>King's Mill Park\\n</td>\n    </tr>\n    <tr>\n      <th>201</th>\n      <td>M8Y</td>\n      <td>Etobicoke</td>\n      <td>Kingsway Park South East\\n</td>\n    </tr>\n    <tr>\n      <th>202</th>\n      <td>M8Y</td>\n      <td>Etobicoke</td>\n      <td>Mimico NE\\n</td>\n    </tr>\n    <tr>\n      <th>203</th>\n      <td>M8Y</td>\n      <td>Etobicoke</td>\n      <td>Old Mill South\\n</td>\n    </tr>\n    <tr>\n      <th>204</th>\n      <td>M8Y</td>\n      <td>Etobicoke</td>\n      <td>The Queensway East\\n</td>\n    </tr>\n    <tr>\n      <th>205</th>\n      <td>M8Y</td>\n      <td>Etobicoke</td>\n      <td>Royal York South East\\n</td>\n    </tr>\n    <tr>\n      <th>206</th>\n      <td>M8Y</td>\n      <td>Etobicoke</td>\n      <td>Sunnylea\\n</td>\n    </tr>\n    <tr>\n      <th>207</th>\n      <td>M8Z</td>\n      <td>Etobicoke</td>\n      <td>Kingsway Park South West\\n</td>\n    </tr>\n    <tr>\n      <th>208</th>\n      <td>M8Z</td>\n      <td>Etobicoke</td>\n      <td>Mimico NW\\n</td>\n    </tr>\n    <tr>\n      <th>209</th>\n      <td>M8Z</td>\n      <td>Etobicoke</td>\n      <td>The Queensway West\\n</td>\n    </tr>\n    <tr>\n      <th>210</th>\n      <td>M8Z</td>\n      <td>Etobicoke</td>\n      <td>Royal York South West\\n</td>\n    </tr>\n    <tr>\n      <th>211</th>\n      <td>M8Z</td>\n      <td>Etobicoke</td>\n      <td>South of Bloor\\n</td>\n    </tr>\n  </tbody>\n</table>\n<p>212 rows \u00d7 3 columns</p>\n</div>", 
                        "text/plain": "    Postcode           Borough  \\\n0        M3A        North York   \n1        M4A        North York   \n2        M5A  Downtown Toronto   \n3        M5A  Downtown Toronto   \n4        M6A        North York   \n5        M6A        North York   \n6        M7A      Queen's Park   \n7        M9A         Etobicoke   \n8        M1B       Scarborough   \n9        M1B       Scarborough   \n10       M3B        North York   \n11       M4B         East York   \n12       M4B         East York   \n13       M5B  Downtown Toronto   \n14       M5B  Downtown Toronto   \n15       M6B        North York   \n16       M9B         Etobicoke   \n17       M9B         Etobicoke   \n18       M9B         Etobicoke   \n19       M9B         Etobicoke   \n20       M9B         Etobicoke   \n21       M1C       Scarborough   \n22       M1C       Scarborough   \n23       M1C       Scarborough   \n24       M3C        North York   \n25       M3C        North York   \n26       M4C         East York   \n27       M5C  Downtown Toronto   \n28       M6C              York   \n29       M9C         Etobicoke   \n..       ...               ...   \n182      M1W       Scarborough   \n183      M1W       Scarborough   \n184      M4W  Downtown Toronto   \n185      M5W  Downtown Toronto   \n186      M8W         Etobicoke   \n187      M8W         Etobicoke   \n188      M9W         Etobicoke   \n189      M1X       Scarborough   \n190      M4X  Downtown Toronto   \n191      M4X  Downtown Toronto   \n192      M5X  Downtown Toronto   \n193      M5X  Downtown Toronto   \n194      M8X         Etobicoke   \n195      M8X         Etobicoke   \n196      M8X         Etobicoke   \n197      M4Y  Downtown Toronto   \n198      M7Y      East Toronto   \n199      M8Y         Etobicoke   \n200      M8Y         Etobicoke   \n201      M8Y         Etobicoke   \n202      M8Y         Etobicoke   \n203      M8Y         Etobicoke   \n204      M8Y         Etobicoke   \n205      M8Y         Etobicoke   \n206      M8Y         Etobicoke   \n207      M8Z         Etobicoke   \n208      M8Z         Etobicoke   \n209      M8Z         Etobicoke   \n210      M8Z         Etobicoke   \n211      M8Z         Etobicoke   \n\n                                         Neighbourhood  \n0                                          Parkwoods\\n  \n1                                   Victoria Village\\n  \n2                                       Harbourfront\\n  \n3                                        Regent Park\\n  \n4                                   Lawrence Heights\\n  \n5                                     Lawrence Manor\\n  \n6                                         Queen's Park  \n7                                   Islington Avenue\\n  \n8                                              Rouge\\n  \n9                                            Malvern\\n  \n10                                   Don Mills North\\n  \n11                                  Woodbine Gardens\\n  \n12                                     Parkview Hill\\n  \n13                                           Ryerson\\n  \n14                                   Garden District\\n  \n15                                         Glencairn\\n  \n16                                        Cloverdale\\n  \n17                                         Islington\\n  \n18                                      Martin Grove\\n  \n19                                  Princess Gardens\\n  \n20                                   West Deane Park\\n  \n21                                    Highland Creek\\n  \n22                                        Rouge Hill\\n  \n23                                        Port Union\\n  \n24                                   Flemingdon Park\\n  \n25                                   Don Mills South\\n  \n26                                  Woodbine Heights\\n  \n27                                    St. James Town\\n  \n28                                Humewood-Cedarvale\\n  \n29                                 Bloordale Gardens\\n  \n..                                                 ...  \n182                                  L'Amoreaux West\\n  \n183                                     Steeles West\\n  \n184                                         Rosedale\\n  \n185                  Stn A PO Boxes 25 The Esplanade\\n  \n186                                        Alderwood\\n  \n187                                      Long Branch\\n  \n188                                        Northwest\\n  \n189                                      Upper Rouge\\n  \n190                                      Cabbagetown\\n  \n191                                   St. James Town\\n  \n192                             First Canadian Place\\n  \n193                                 Underground city\\n  \n194                                     The Kingsway\\n  \n195                                  Montgomery Road\\n  \n196                                   Old Mill North\\n  \n197                             Church and Wellesley\\n  \n198  Business reply mail Processing Centre969 Easte...  \n199                                       Humber Bay\\n  \n200                                 King's Mill Park\\n  \n201                         Kingsway Park South East\\n  \n202                                        Mimico NE\\n  \n203                                   Old Mill South\\n  \n204                               The Queensway East\\n  \n205                            Royal York South East\\n  \n206                                         Sunnylea\\n  \n207                         Kingsway Park South West\\n  \n208                                        Mimico NW\\n  \n209                               The Queensway West\\n  \n210                            Royal York South West\\n  \n211                                   South of Bloor\\n  \n\n[212 rows x 3 columns]"
                    }, 
                    "output_type": "execute_result"
                }
            ], 
            "source": "df = pd.DataFrame(lst, columns=cols)\n\ndf = df.replace('Not assigned', np.nan)\ndf = df.dropna()\ndf[(df.Neighbourhood == 'Not assigned\\n')]\n\ndf.iloc[6]['Neighbourhood'] = \"Queen's Park\"\ndf = df.reset_index(drop=True)\ndf"
        }, 
        {
            "execution_count": 20, 
            "cell_type": "code", 
            "metadata": {}, 
            "outputs": [
                {
                    "execution_count": 20, 
                    "metadata": {}, 
                    "data": {
                        "text/plain": "(212, 3)"
                    }, 
                    "output_type": "execute_result"
                }
            ], 
            "source": "df.shape"
        }, 
        {
            "execution_count": null, 
            "cell_type": "code", 
            "metadata": {}, 
            "outputs": [], 
            "source": ""
        }
    ], 
    "metadata": {
        "kernelspec": {
            "display_name": "Python 3.5", 
            "name": "python3", 
            "language": "python"
        }, 
        "language_info": {
            "mimetype": "text/x-python", 
            "nbconvert_exporter": "python", 
            "version": "3.5.5", 
            "name": "python", 
            "file_extension": ".py", 
            "pygments_lexer": "ipython3", 
            "codemirror_mode": {
                "version": 3, 
                "name": "ipython"
            }
        }
    }, 
    "nbformat": 4
}